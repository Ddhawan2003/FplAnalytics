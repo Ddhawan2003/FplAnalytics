{
  "nbformat": 4,
  "nbformat_minor": 0,
  "metadata": {
    "colab": {
      "provenance": [],
      "authorship_tag": "ABX9TyMVRdKkhWSzxyLyr8hFx1LW",
      "include_colab_link": true
    },
    "kernelspec": {
      "name": "python3",
      "display_name": "Python 3"
    },
    "language_info": {
      "name": "python"
    }
  },
  "cells": [
    {
      "cell_type": "markdown",
      "metadata": {
        "id": "view-in-github",
        "colab_type": "text"
      },
      "source": [
        "<a href=\"https://colab.research.google.com/github/Ddhawan2003/FplAnalytics/blob/main/KnapsackFPL.ipynb\" target=\"_parent\"><img src=\"https://colab.research.google.com/assets/colab-badge.svg\" alt=\"Open In Colab\"/></a>"
      ]
    },
    {
      "cell_type": "code",
      "source": [
        "import pandas as pd\n",
        "import requests\n",
        "\n",
        "# Step 1: Load the existing CSV file\n",
        "csv_file_path = 'updated_players.csv'\n",
        "updated_players_df = pd.read_csv(csv_file_path)\n",
        "\n",
        "# Step 2: Fetch the player prices from the Fantasy Premier League API\n",
        "url = 'https://fantasy.premierleague.com/api/bootstrap-static/'\n",
        "response = requests.get(url)\n",
        "\n",
        "# Check if the request was successful\n",
        "if response.status_code == 200:\n",
        "    data = response.json()\n",
        "    players = data['elements']\n",
        "\n",
        "    # Create a dictionary to map player names to their now_cost\n",
        "    player_prices = {\n",
        "        f\"{player['first_name']} {player['second_name']}\": player['now_cost'] / 10.0  # Convert to millions\n",
        "        for player in players\n",
        "    }\n",
        "\n",
        "    # Update the prices in the DataFrame\n",
        "    updated_players_df['now_cost'] = updated_players_df['first_name'] + ' ' + updated_players_df['second_name']\n",
        "    updated_players_df['now_cost'] = updated_players_df['now_cost'].map(player_prices).fillna(updated_players_df['now_cost'])\n",
        "\n",
        "    # Step 3: Save the updated DataFrame back to CSV\n",
        "    updated_players_df.to_csv(csv_file_path, index=False)\n",
        "    print(\"Updated player prices successfully.\")\n",
        "else:\n",
        "    print(f\"Failed to retrieve data: {response.status_code}\")\n",
        "\n",
        "\n",
        "if 'price' in updated_players_df.columns:\n",
        "    updated_players_df.drop(columns=['now_cost'], inplace=True)\n"
      ],
      "metadata": {
        "colab": {
          "base_uri": "https://localhost:8080/"
        },
        "id": "IbbQdsp8UYfw",
        "outputId": "66a3eb09-ccec-4d32-8355-c748f13c46b0"
      },
      "execution_count": 25,
      "outputs": [
        {
          "output_type": "stream",
          "name": "stdout",
          "text": [
            "Updated player prices successfully.\n"
          ]
        }
      ]
    },
    {
      "cell_type": "code",
      "source": [],
      "metadata": {
        "id": "8e1YLYCCWCRD"
      },
      "execution_count": null,
      "outputs": []
    },
    {
      "cell_type": "code",
      "source": [
        "import pandas as pd\n",
        "\n",
        "# Load the player data from the CSV file\n",
        "players_df = pd.read_csv('cleaned_players.csv', delimiter=',')  # Change delimiter if necessary\n",
        "\n",
        "def calculate_predicted_points(row):\n",
        "    points = 0\n",
        "\n",
        "    # Minutes played points\n",
        "    if row['minutes'] >= 60:\n",
        "        points += 2\n",
        "    elif row['minutes'] > 0:\n",
        "        points += 1\n",
        "\n",
        "    # Goals scored points\n",
        "    if row['element_type'] == 'GK':\n",
        "        points += row['goals_scored'] * 10  # Goalkeeper goals\n",
        "        points += row['clean_sheets'] * 4  # Clean sheets for GK\n",
        "        points += row['goals_conceded'] // 2 * -1  # Goals conceded penalties\n",
        "        points += row['bps'] // 3  # Bonus points from BPS\n",
        "    elif row['element_type'] == 'DEF':\n",
        "        points += row['goals_scored'] * 6  # Defender goals\n",
        "        points += row['clean_sheets'] * 4  # Clean sheets for DEF\n",
        "        points += row['goals_conceded'] // 2 * -1  # Goals conceded penalties\n",
        "        points += row['bps'] // 3  # Bonus points from BPS\n",
        "    elif row['element_type'] == 'MID':\n",
        "        points += row['goals_scored'] * 5  # Midfielder goals\n",
        "        points += row['assists'] * 3  # Assists points for MID\n",
        "        points += row['clean_sheets'] * 1  # Clean sheets for MID\n",
        "        points += row['bps'] // 3  # Bonus points from BPS\n",
        "    elif row['element_type'] == 'FWD':\n",
        "        points += row['goals_scored'] * 4  # Forward goals\n",
        "        points += row['assists'] * 3  # Assists points for FWD\n",
        "        points += row['bps'] // 3  # Bonus points from BPS\n",
        "\n",
        "    # Penalties, cards, and own goals penalties\n",
        "    points += row['yellow_cards'] * -1\n",
        "    points += row['red_cards'] * -3\n",
        "\n",
        "    return points\n",
        "\n",
        "# Apply the function to each row to calculate predicted points\n",
        "players_df['predicted_points'] = players_df.apply(calculate_predicted_points, axis=1)\n",
        "\n",
        "# Save the updated DataFrame back to CSV\n",
        "players_df.to_csv('updated_players.csv', index=False)\n",
        "\n",
        "print(\"Predicted points have been calculated and saved to 'updated_players.csv'.\")\n"
      ],
      "metadata": {
        "colab": {
          "base_uri": "https://localhost:8080/"
        },
        "id": "4gxqz2nWRwPd",
        "outputId": "bb9c0063-d02b-492c-827f-09ca6f31df6d"
      },
      "execution_count": 10,
      "outputs": [
        {
          "output_type": "stream",
          "name": "stdout",
          "text": [
            "Predicted points have been calculated and saved to 'updated_players.csv'.\n"
          ]
        }
      ]
    },
    {
      "cell_type": "code",
      "source": [
        "import pandas as pd\n",
        "import pulp\n",
        "\n",
        "# Load the updated_players.csv file\n",
        "csv_file_path = 'updated_players.csv'\n",
        "updated_players_df = pd.read_csv(csv_file_path)\n",
        "\n",
        "# Convert now_cost to price (the cost is in millions, so we divide by 10)\n",
        "updated_players_df['price'] = updated_players_df['now_cost']\n",
        "\n",
        "# Create a list of players with relevant information\n",
        "players = []\n",
        "for index, row in updated_players_df.iterrows():\n",
        "    players.append({\n",
        "        'name': f\"{row['first_name']} {row['second_name']}\",\n",
        "        'points': row['predicted_points'],\n",
        "        'price': row['price'],\n",
        "        'position': row['element_type'],  # Assuming element_type corresponds to position\n",
        "    })\n",
        "\n",
        "# Initialize the problem\n",
        "problem = pulp.LpProblem(\"Best_Premier_League_Team\", pulp.LpMaximize)\n",
        "\n",
        "# Create decision variables\n",
        "x = pulp.LpVariable.dicts(\"player\", range(len(players)), cat=\"Binary\")\n",
        "\n",
        "# Objective function: maximize total predicted points\n",
        "problem += pulp.lpSum([x[i] * players[i]['points'] for i in range(len(players))])\n",
        "\n",
        "# Budget constraint\n",
        "problem += pulp.lpSum([x[i] * players[i]['price'] for i in range(len(players))]) <= 100\n",
        "\n",
        "# Position constraints\n",
        "problem += pulp.lpSum([x[i] for i in range(len(players)) if players[i]['position'] == 'GK']) == 2\n",
        "problem += pulp.lpSum([x[i] for i in range(len(players)) if players[i]['position'] == 'DF']) <= 5\n",
        "problem += pulp.lpSum([x[i] for i in range(len(players)) if players[i]['position'] == 'MF']) <= 5\n",
        "problem += pulp.lpSum([x[i] for i in range(len(players)) if players[i]['position'] == 'FW']) <= 3\n",
        "\n",
        "# Solve the problem\n",
        "problem.solve()\n",
        "\n",
        "# Get the selected team\n",
        "selected_team = [players[i]['name'] for i in range(len(players)) if x[i].value() == 1]\n",
        "total_points = pulp.value(problem.objective)\n",
        "\n",
        "# Output the results\n",
        "print(f\"Selected team: {selected_team}\")\n",
        "print(f\"Total predicted points: {total_points}\")\n"
      ],
      "metadata": {
        "colab": {
          "base_uri": "https://localhost:8080/"
        },
        "id": "Qppwf0i7O7lp",
        "outputId": "2e04e211-e5d3-4695-827e-f005a0f5caa1"
      },
      "execution_count": 27,
      "outputs": [
        {
          "output_type": "stream",
          "name": "stdout",
          "text": [
            "Selected team: ['Bryan Mbeumo', 'Danny Welbeck', 'Noni Madueke', 'Cole Palmer', 'Dwight McNeil', 'Emile Smith Rowe', 'Wilfred Ndidi', 'Alisson Ramses Becker', 'Ibrahima Konaté', 'Luis Díaz', 'Virgil van Dijk', 'Mateo Kovačić', 'Diogo Dalot Teixeira', 'André Onana', 'James Maddison', 'Cristian Romero']\n",
            "Total predicted points: 1217.0\n"
          ]
        }
      ]
    }
  ]
}