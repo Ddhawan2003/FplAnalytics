{
  "nbformat": 4,
  "nbformat_minor": 0,
  "metadata": {
    "colab": {
      "provenance": [],
      "authorship_tag": "ABX9TyNtZcBe4bzg0J3NtQ+s+2ap",
      "include_colab_link": true
    },
    "kernelspec": {
      "name": "python3",
      "display_name": "Python 3"
    },
    "language_info": {
      "name": "python"
    }
  },
  "cells": [
    {
      "cell_type": "markdown",
      "metadata": {
        "id": "view-in-github",
        "colab_type": "text"
      },
      "source": [
        "<a href=\"https://colab.research.google.com/github/Ddhawan2003/FplAnalytics/blob/main/KnapsackFPL.ipynb\" target=\"_parent\"><img src=\"https://colab.research.google.com/assets/colab-badge.svg\" alt=\"Open In Colab\"/></a>"
      ]
    },
    {
      "cell_type": "code",
      "execution_count": 3,
      "metadata": {
        "colab": {
          "base_uri": "https://localhost:8080/"
        },
        "id": "hvBkxfCFOsUA",
        "outputId": "fcd64035-d903-49d6-cfda-3241660a9781"
      },
      "outputs": [
        {
          "output_type": "stream",
          "name": "stdout",
          "text": [
            "Selected team: ['Player2', 'Player4', 'Player6', 'Player7', 'Player9', 'Player13', 'Player15', 'Player16', 'Player17', 'Player20', 'Player22', 'Player25', 'Player26', 'Player29', 'Player32']\n",
            "Total predicted points: 155.2\n"
          ]
        }
      ],
      "source": [
        "import pulp\n",
        "\n",
        "# List of players with predicted points, prices, positions, and teams\n",
        "players = [\n",
        "    # Goalkeepers (GK)\n",
        "    {'name': 'Player1', 'points': 9.8, 'price': 5.0, 'position': 'GK', 'team': 'TeamA'},\n",
        "    {'name': 'Player2', 'points': 10.2, 'price': 5.5, 'position': 'GK', 'team': 'TeamB'},\n",
        "    {'name': 'Player3', 'points': 9.6, 'price': 4.8, 'position': 'GK', 'team': 'TeamC'},\n",
        "    {'name': 'Player4', 'points': 10.0, 'price': 5.2, 'position': 'GK', 'team': 'TeamD'},\n",
        "    {'name': 'Player5', 'points': 9.9, 'price': 5.3, 'position': 'GK', 'team': 'TeamE'},\n",
        "\n",
        "    # Defenders (DF)\n",
        "    {'name': 'Player6', 'points': 10.5, 'price': 6.0, 'position': 'DF', 'team': 'TeamA'},\n",
        "    {'name': 'Player7', 'points': 10.1, 'price': 5.7, 'position': 'DF', 'team': 'TeamB'},\n",
        "    {'name': 'Player8', 'points': 9.8, 'price': 5.5, 'position': 'DF', 'team': 'TeamC'},\n",
        "    {'name': 'Player9', 'points': 10.3, 'price': 6.2, 'position': 'DF', 'team': 'TeamD'},\n",
        "    {'name': 'Player10', 'points': 9.7, 'price': 5.3, 'position': 'DF', 'team': 'TeamE'},\n",
        "    {'name': 'Player11', 'points': 10.0, 'price': 5.9, 'position': 'DF', 'team': 'TeamF'},\n",
        "    {'name': 'Player12', 'points': 9.6, 'price': 5.6, 'position': 'DF', 'team': 'TeamG'},\n",
        "    {'name': 'Player13', 'points': 10.1, 'price': 6.1, 'position': 'DF', 'team': 'TeamH'},\n",
        "    {'name': 'Player14', 'points': 9.9, 'price': 5.4, 'position': 'DF', 'team': 'TeamI'},\n",
        "    {'name': 'Player15', 'points': 10.2, 'price': 5.8, 'position': 'DF', 'team': 'TeamJ'},\n",
        "\n",
        "    # Midfielders (MF)\n",
        "    {'name': 'Player16', 'points': 10.8, 'price': 7.0, 'position': 'MF', 'team': 'TeamA'},\n",
        "    {'name': 'Player17', 'points': 10.3, 'price': 6.8, 'position': 'MF', 'team': 'TeamB'},\n",
        "    {'name': 'Player18', 'points': 9.7, 'price': 6.5, 'position': 'MF', 'team': 'TeamC'},\n",
        "    {'name': 'Player19', 'points': 10.0, 'price': 7.2, 'position': 'MF', 'team': 'TeamD'},\n",
        "    {'name': 'Player20', 'points': 10.1, 'price': 6.7, 'position': 'MF', 'team': 'TeamE'},\n",
        "    {'name': 'Player21', 'points': 9.9, 'price': 6.3, 'position': 'MF', 'team': 'TeamF'},\n",
        "    {'name': 'Player22', 'points': 10.4, 'price': 7.1, 'position': 'MF', 'team': 'TeamG'},\n",
        "    {'name': 'Player23', 'points': 9.8, 'price': 6.4, 'position': 'MF', 'team': 'TeamH'},\n",
        "    {'name': 'Player24', 'points': 10.2, 'price': 7.0, 'position': 'MF', 'team': 'TeamI'},\n",
        "    {'name': 'Player25', 'points': 10.6, 'price': 7.5, 'position': 'MF', 'team': 'TeamJ'},\n",
        "\n",
        "    # Forwards (FW)\n",
        "    {'name': 'Player26', 'points': 10.9, 'price': 8.0, 'position': 'FW', 'team': 'TeamA'},\n",
        "    {'name': 'Player27', 'points': 10.1, 'price': 7.8, 'position': 'FW', 'team': 'TeamB'},\n",
        "    {'name': 'Player28', 'points': 9.8, 'price': 7.6, 'position': 'FW', 'team': 'TeamC'},\n",
        "    {'name': 'Player29', 'points': 10.4, 'price': 8.1, 'position': 'FW', 'team': 'TeamD'},\n",
        "    {'name': 'Player30', 'points': 10.0, 'price': 7.7, 'position': 'FW', 'team': 'TeamE'},\n",
        "    {'name': 'Player31', 'points': 9.9, 'price': 7.5, 'position': 'FW', 'team': 'TeamF'},\n",
        "    {'name': 'Player32', 'points': 10.3, 'price': 8.2, 'position': 'FW', 'team': 'TeamG'},\n",
        "    {'name': 'Player33', 'points': 9.7, 'price': 7.4, 'position': 'FW', 'team': 'TeamH'},\n",
        "    {'name': 'Player34', 'points': 10.1, 'price': 7.9, 'position': 'FW', 'team': 'TeamI'},\n",
        "    {'name': 'Player35', 'points': 10.2, 'price': 8.3, 'position': 'FW', 'team': 'TeamJ'}\n",
        "]\n",
        "\n",
        "# Initialize the problem\n",
        "problem = pulp.LpProblem(\"Best_Premier_League_Team\", pulp.LpMaximize)\n",
        "\n",
        "# Create decision variables\n",
        "x = pulp.LpVariable.dicts(\"player\", range(len(players)), cat=\"Binary\")\n",
        "\n",
        "# Objective function: maximize total predicted points\n",
        "problem += pulp.lpSum([x[i] * players[i]['points'] for i in range(len(players))])\n",
        "\n",
        "# Budget constraint\n",
        "problem += pulp.lpSum([x[i] * players[i]['price'] for i in range(len(players))]) <= 100\n",
        "\n",
        "# Position constraints\n",
        "problem += pulp.lpSum([x[i] for i in range(len(players)) if players[i]['position'] == 'GK']) == 2\n",
        "problem += pulp.lpSum([x[i] for i in range(len(players)) if players[i]['position'] == 'DF']) <= 5\n",
        "problem += pulp.lpSum([x[i] for i in range(len(players)) if players[i]['position'] == 'MF']) <= 5\n",
        "problem += pulp.lpSum([x[i] for i in range(len(players)) if players[i]['position'] == 'FW']) <= 3\n",
        "\n",
        "# Team constraints\n",
        "teams = set([p['team'] for p in players])\n",
        "for team in teams:\n",
        "    problem += pulp.lpSum([x[i] for i in range(len(players)) if players[i]['team'] == team]) <= 3\n",
        "\n",
        "# Solve the problem\n",
        "problem.solve()\n",
        "\n",
        "# Get the selected team\n",
        "selected_team = [players[i]['name'] for i in range(len(players)) if x[i].value() == 1]\n",
        "total_points = pulp.value(problem.objective)\n",
        "\n",
        "print(f\"Selected team: {selected_team}\")\n",
        "print(f\"Total predicted points: {total_points}\")\n"
      ]
    },
    {
      "cell_type": "code",
      "source": [
        "import pandas as pd\n",
        "\n",
        "# Load the player data from the CSV file\n",
        "players_df = pd.read_csv('cleaned_players.csv', delimiter='\\t')  # Change delimiter if necessary\n",
        "\n",
        "def calculate_predicted_points(row):\n",
        "    points = 0\n",
        "\n",
        "    # Minutes played points\n",
        "    if row['minutes'] >= 60:\n",
        "        points += 2\n",
        "    elif row['minutes'] > 0:\n",
        "        points += 1\n",
        "\n",
        "    # Goals scored points\n",
        "    if row['element_type'] == 'GK':\n",
        "        points += row['goals_scored'] * 10  # Goalkeeper goals\n",
        "        points += row['clean_sheets'] * 4  # Clean sheets for GK\n",
        "        points += row['goals_conceded'] // 2 * -1  # Goals conceded penalties\n",
        "        points += row['bps'] // 3  # Bonus points from BPS\n",
        "    elif row['element_type'] == 'DEF':\n",
        "        points += row['goals_scored'] * 6  # Defender goals\n",
        "        points += row['clean_sheets'] * 4  # Clean sheets for DEF\n",
        "        points += row['goals_conceded'] // 2 * -1  # Goals conceded penalties\n",
        "        points += row['bps'] // 3  # Bonus points from BPS\n",
        "    elif row['element_type'] == 'MID':\n",
        "        points += row['goals_scored'] * 5  # Midfielder goals\n",
        "        points += row['assists'] * 3  # Assists points for MID\n",
        "        points += row['clean_sheets'] * 1  # Clean sheets for MID\n",
        "        points += row['bps'] // 3  # Bonus points from BPS\n",
        "    elif row['element_type'] == 'FWD':\n",
        "        points += row['goals_scored'] * 4  # Forward goals\n",
        "        points += row['assists'] * 3  # Assists points for FWD\n",
        "        points += row['bps'] // 3  # Bonus points from BPS\n",
        "\n",
        "    # Penalties, cards, and own goals penalties\n",
        "    points += row['yellow_cards'] * -1\n",
        "    points += row['red_cards'] * -3\n",
        "\n",
        "    return points\n",
        "\n",
        "# Apply the function to each row to calculate predicted points\n",
        "players_df['predicted_points'] = players_df.apply(calculate_predicted_points, axis=1)\n",
        "\n",
        "# Save the updated DataFrame back to CSV\n",
        "players_df.to_csv('updated_players.csv', index=False)\n",
        "\n",
        "print(\"Predicted points have been calculated and saved to 'updated_players.csv'.\")\n"
      ],
      "metadata": {
        "colab": {
          "base_uri": "https://localhost:8080/",
          "height": 547
        },
        "id": "4gxqz2nWRwPd",
        "outputId": "68d50676-3eb4-49a0-b2fc-13d71cf3f25a"
      },
      "execution_count": 5,
      "outputs": [
        {
          "output_type": "error",
          "ename": "KeyError",
          "evalue": "'minutes'",
          "traceback": [
            "\u001b[0;31m---------------------------------------------------------------------------\u001b[0m",
            "\u001b[0;31mKeyError\u001b[0m                                  Traceback (most recent call last)",
            "\u001b[0;32m/usr/local/lib/python3.10/dist-packages/pandas/core/indexes/base.py\u001b[0m in \u001b[0;36mget_loc\u001b[0;34m(self, key)\u001b[0m\n\u001b[1;32m   3804\u001b[0m         \u001b[0;32mtry\u001b[0m\u001b[0;34m:\u001b[0m\u001b[0;34m\u001b[0m\u001b[0;34m\u001b[0m\u001b[0m\n\u001b[0;32m-> 3805\u001b[0;31m             \u001b[0;32mreturn\u001b[0m \u001b[0mself\u001b[0m\u001b[0;34m.\u001b[0m\u001b[0m_engine\u001b[0m\u001b[0;34m.\u001b[0m\u001b[0mget_loc\u001b[0m\u001b[0;34m(\u001b[0m\u001b[0mcasted_key\u001b[0m\u001b[0;34m)\u001b[0m\u001b[0;34m\u001b[0m\u001b[0;34m\u001b[0m\u001b[0m\n\u001b[0m\u001b[1;32m   3806\u001b[0m         \u001b[0;32mexcept\u001b[0m \u001b[0mKeyError\u001b[0m \u001b[0;32mas\u001b[0m \u001b[0merr\u001b[0m\u001b[0;34m:\u001b[0m\u001b[0;34m\u001b[0m\u001b[0;34m\u001b[0m\u001b[0m\n",
            "\u001b[0;32mindex.pyx\u001b[0m in \u001b[0;36mpandas._libs.index.IndexEngine.get_loc\u001b[0;34m()\u001b[0m\n",
            "\u001b[0;32mindex.pyx\u001b[0m in \u001b[0;36mpandas._libs.index.IndexEngine.get_loc\u001b[0;34m()\u001b[0m\n",
            "\u001b[0;32mpandas/_libs/hashtable_class_helper.pxi\u001b[0m in \u001b[0;36mpandas._libs.hashtable.PyObjectHashTable.get_item\u001b[0;34m()\u001b[0m\n",
            "\u001b[0;32mpandas/_libs/hashtable_class_helper.pxi\u001b[0m in \u001b[0;36mpandas._libs.hashtable.PyObjectHashTable.get_item\u001b[0;34m()\u001b[0m\n",
            "\u001b[0;31mKeyError\u001b[0m: 'minutes'",
            "\nThe above exception was the direct cause of the following exception:\n",
            "\u001b[0;31mKeyError\u001b[0m                                  Traceback (most recent call last)",
            "\u001b[0;32m<ipython-input-5-b4f681856a7b>\u001b[0m in \u001b[0;36m<cell line: 43>\u001b[0;34m()\u001b[0m\n\u001b[1;32m     41\u001b[0m \u001b[0;34m\u001b[0m\u001b[0m\n\u001b[1;32m     42\u001b[0m \u001b[0;31m# Apply the function to each row to calculate predicted points\u001b[0m\u001b[0;34m\u001b[0m\u001b[0;34m\u001b[0m\u001b[0m\n\u001b[0;32m---> 43\u001b[0;31m \u001b[0mplayers_df\u001b[0m\u001b[0;34m[\u001b[0m\u001b[0;34m'predicted_points'\u001b[0m\u001b[0;34m]\u001b[0m \u001b[0;34m=\u001b[0m \u001b[0mplayers_df\u001b[0m\u001b[0;34m.\u001b[0m\u001b[0mapply\u001b[0m\u001b[0;34m(\u001b[0m\u001b[0mcalculate_predicted_points\u001b[0m\u001b[0;34m,\u001b[0m \u001b[0maxis\u001b[0m\u001b[0;34m=\u001b[0m\u001b[0;36m1\u001b[0m\u001b[0;34m)\u001b[0m\u001b[0;34m\u001b[0m\u001b[0;34m\u001b[0m\u001b[0m\n\u001b[0m\u001b[1;32m     44\u001b[0m \u001b[0;34m\u001b[0m\u001b[0m\n\u001b[1;32m     45\u001b[0m \u001b[0;31m# Save the updated DataFrame back to CSV\u001b[0m\u001b[0;34m\u001b[0m\u001b[0;34m\u001b[0m\u001b[0m\n",
            "\u001b[0;32m/usr/local/lib/python3.10/dist-packages/pandas/core/frame.py\u001b[0m in \u001b[0;36mapply\u001b[0;34m(self, func, axis, raw, result_type, args, by_row, engine, engine_kwargs, **kwargs)\u001b[0m\n\u001b[1;32m  10372\u001b[0m             \u001b[0mkwargs\u001b[0m\u001b[0;34m=\u001b[0m\u001b[0mkwargs\u001b[0m\u001b[0;34m,\u001b[0m\u001b[0;34m\u001b[0m\u001b[0;34m\u001b[0m\u001b[0m\n\u001b[1;32m  10373\u001b[0m         )\n\u001b[0;32m> 10374\u001b[0;31m         \u001b[0;32mreturn\u001b[0m \u001b[0mop\u001b[0m\u001b[0;34m.\u001b[0m\u001b[0mapply\u001b[0m\u001b[0;34m(\u001b[0m\u001b[0;34m)\u001b[0m\u001b[0;34m.\u001b[0m\u001b[0m__finalize__\u001b[0m\u001b[0;34m(\u001b[0m\u001b[0mself\u001b[0m\u001b[0;34m,\u001b[0m \u001b[0mmethod\u001b[0m\u001b[0;34m=\u001b[0m\u001b[0;34m\"apply\"\u001b[0m\u001b[0;34m)\u001b[0m\u001b[0;34m\u001b[0m\u001b[0;34m\u001b[0m\u001b[0m\n\u001b[0m\u001b[1;32m  10375\u001b[0m \u001b[0;34m\u001b[0m\u001b[0m\n\u001b[1;32m  10376\u001b[0m     def map(\n",
            "\u001b[0;32m/usr/local/lib/python3.10/dist-packages/pandas/core/apply.py\u001b[0m in \u001b[0;36mapply\u001b[0;34m(self)\u001b[0m\n\u001b[1;32m    914\u001b[0m             \u001b[0;32mreturn\u001b[0m \u001b[0mself\u001b[0m\u001b[0;34m.\u001b[0m\u001b[0mapply_raw\u001b[0m\u001b[0;34m(\u001b[0m\u001b[0mengine\u001b[0m\u001b[0;34m=\u001b[0m\u001b[0mself\u001b[0m\u001b[0;34m.\u001b[0m\u001b[0mengine\u001b[0m\u001b[0;34m,\u001b[0m \u001b[0mengine_kwargs\u001b[0m\u001b[0;34m=\u001b[0m\u001b[0mself\u001b[0m\u001b[0;34m.\u001b[0m\u001b[0mengine_kwargs\u001b[0m\u001b[0;34m)\u001b[0m\u001b[0;34m\u001b[0m\u001b[0;34m\u001b[0m\u001b[0m\n\u001b[1;32m    915\u001b[0m \u001b[0;34m\u001b[0m\u001b[0m\n\u001b[0;32m--> 916\u001b[0;31m         \u001b[0;32mreturn\u001b[0m \u001b[0mself\u001b[0m\u001b[0;34m.\u001b[0m\u001b[0mapply_standard\u001b[0m\u001b[0;34m(\u001b[0m\u001b[0;34m)\u001b[0m\u001b[0;34m\u001b[0m\u001b[0;34m\u001b[0m\u001b[0m\n\u001b[0m\u001b[1;32m    917\u001b[0m \u001b[0;34m\u001b[0m\u001b[0m\n\u001b[1;32m    918\u001b[0m     \u001b[0;32mdef\u001b[0m \u001b[0magg\u001b[0m\u001b[0;34m(\u001b[0m\u001b[0mself\u001b[0m\u001b[0;34m)\u001b[0m\u001b[0;34m:\u001b[0m\u001b[0;34m\u001b[0m\u001b[0;34m\u001b[0m\u001b[0m\n",
            "\u001b[0;32m/usr/local/lib/python3.10/dist-packages/pandas/core/apply.py\u001b[0m in \u001b[0;36mapply_standard\u001b[0;34m(self)\u001b[0m\n\u001b[1;32m   1061\u001b[0m     \u001b[0;32mdef\u001b[0m \u001b[0mapply_standard\u001b[0m\u001b[0;34m(\u001b[0m\u001b[0mself\u001b[0m\u001b[0;34m)\u001b[0m\u001b[0;34m:\u001b[0m\u001b[0;34m\u001b[0m\u001b[0;34m\u001b[0m\u001b[0m\n\u001b[1;32m   1062\u001b[0m         \u001b[0;32mif\u001b[0m \u001b[0mself\u001b[0m\u001b[0;34m.\u001b[0m\u001b[0mengine\u001b[0m \u001b[0;34m==\u001b[0m \u001b[0;34m\"python\"\u001b[0m\u001b[0;34m:\u001b[0m\u001b[0;34m\u001b[0m\u001b[0;34m\u001b[0m\u001b[0m\n\u001b[0;32m-> 1063\u001b[0;31m             \u001b[0mresults\u001b[0m\u001b[0;34m,\u001b[0m \u001b[0mres_index\u001b[0m \u001b[0;34m=\u001b[0m \u001b[0mself\u001b[0m\u001b[0;34m.\u001b[0m\u001b[0mapply_series_generator\u001b[0m\u001b[0;34m(\u001b[0m\u001b[0;34m)\u001b[0m\u001b[0;34m\u001b[0m\u001b[0;34m\u001b[0m\u001b[0m\n\u001b[0m\u001b[1;32m   1064\u001b[0m         \u001b[0;32melse\u001b[0m\u001b[0;34m:\u001b[0m\u001b[0;34m\u001b[0m\u001b[0;34m\u001b[0m\u001b[0m\n\u001b[1;32m   1065\u001b[0m             \u001b[0mresults\u001b[0m\u001b[0;34m,\u001b[0m \u001b[0mres_index\u001b[0m \u001b[0;34m=\u001b[0m \u001b[0mself\u001b[0m\u001b[0;34m.\u001b[0m\u001b[0mapply_series_numba\u001b[0m\u001b[0;34m(\u001b[0m\u001b[0;34m)\u001b[0m\u001b[0;34m\u001b[0m\u001b[0;34m\u001b[0m\u001b[0m\n",
            "\u001b[0;32m/usr/local/lib/python3.10/dist-packages/pandas/core/apply.py\u001b[0m in \u001b[0;36mapply_series_generator\u001b[0;34m(self)\u001b[0m\n\u001b[1;32m   1079\u001b[0m             \u001b[0;32mfor\u001b[0m \u001b[0mi\u001b[0m\u001b[0;34m,\u001b[0m \u001b[0mv\u001b[0m \u001b[0;32min\u001b[0m \u001b[0menumerate\u001b[0m\u001b[0;34m(\u001b[0m\u001b[0mseries_gen\u001b[0m\u001b[0;34m)\u001b[0m\u001b[0;34m:\u001b[0m\u001b[0;34m\u001b[0m\u001b[0;34m\u001b[0m\u001b[0m\n\u001b[1;32m   1080\u001b[0m                 \u001b[0;31m# ignore SettingWithCopy here in case the user mutates\u001b[0m\u001b[0;34m\u001b[0m\u001b[0;34m\u001b[0m\u001b[0m\n\u001b[0;32m-> 1081\u001b[0;31m                 \u001b[0mresults\u001b[0m\u001b[0;34m[\u001b[0m\u001b[0mi\u001b[0m\u001b[0;34m]\u001b[0m \u001b[0;34m=\u001b[0m \u001b[0mself\u001b[0m\u001b[0;34m.\u001b[0m\u001b[0mfunc\u001b[0m\u001b[0;34m(\u001b[0m\u001b[0mv\u001b[0m\u001b[0;34m,\u001b[0m \u001b[0;34m*\u001b[0m\u001b[0mself\u001b[0m\u001b[0;34m.\u001b[0m\u001b[0margs\u001b[0m\u001b[0;34m,\u001b[0m \u001b[0;34m**\u001b[0m\u001b[0mself\u001b[0m\u001b[0;34m.\u001b[0m\u001b[0mkwargs\u001b[0m\u001b[0;34m)\u001b[0m\u001b[0;34m\u001b[0m\u001b[0;34m\u001b[0m\u001b[0m\n\u001b[0m\u001b[1;32m   1082\u001b[0m                 \u001b[0;32mif\u001b[0m \u001b[0misinstance\u001b[0m\u001b[0;34m(\u001b[0m\u001b[0mresults\u001b[0m\u001b[0;34m[\u001b[0m\u001b[0mi\u001b[0m\u001b[0;34m]\u001b[0m\u001b[0;34m,\u001b[0m \u001b[0mABCSeries\u001b[0m\u001b[0;34m)\u001b[0m\u001b[0;34m:\u001b[0m\u001b[0;34m\u001b[0m\u001b[0;34m\u001b[0m\u001b[0m\n\u001b[1;32m   1083\u001b[0m                     \u001b[0;31m# If we have a view on v, we need to make a copy because\u001b[0m\u001b[0;34m\u001b[0m\u001b[0;34m\u001b[0m\u001b[0m\n",
            "\u001b[0;32m<ipython-input-5-b4f681856a7b>\u001b[0m in \u001b[0;36mcalculate_predicted_points\u001b[0;34m(row)\u001b[0m\n\u001b[1;32m      8\u001b[0m \u001b[0;34m\u001b[0m\u001b[0m\n\u001b[1;32m      9\u001b[0m     \u001b[0;31m# Minutes played points\u001b[0m\u001b[0;34m\u001b[0m\u001b[0;34m\u001b[0m\u001b[0m\n\u001b[0;32m---> 10\u001b[0;31m     \u001b[0;32mif\u001b[0m \u001b[0mrow\u001b[0m\u001b[0;34m[\u001b[0m\u001b[0;34m'minutes'\u001b[0m\u001b[0;34m]\u001b[0m \u001b[0;34m>=\u001b[0m \u001b[0;36m60\u001b[0m\u001b[0;34m:\u001b[0m\u001b[0;34m\u001b[0m\u001b[0;34m\u001b[0m\u001b[0m\n\u001b[0m\u001b[1;32m     11\u001b[0m         \u001b[0mpoints\u001b[0m \u001b[0;34m+=\u001b[0m \u001b[0;36m2\u001b[0m\u001b[0;34m\u001b[0m\u001b[0;34m\u001b[0m\u001b[0m\n\u001b[1;32m     12\u001b[0m     \u001b[0;32melif\u001b[0m \u001b[0mrow\u001b[0m\u001b[0;34m[\u001b[0m\u001b[0;34m'minutes'\u001b[0m\u001b[0;34m]\u001b[0m \u001b[0;34m>\u001b[0m \u001b[0;36m0\u001b[0m\u001b[0;34m:\u001b[0m\u001b[0;34m\u001b[0m\u001b[0;34m\u001b[0m\u001b[0m\n",
            "\u001b[0;32m/usr/local/lib/python3.10/dist-packages/pandas/core/series.py\u001b[0m in \u001b[0;36m__getitem__\u001b[0;34m(self, key)\u001b[0m\n\u001b[1;32m   1119\u001b[0m \u001b[0;34m\u001b[0m\u001b[0m\n\u001b[1;32m   1120\u001b[0m         \u001b[0;32melif\u001b[0m \u001b[0mkey_is_scalar\u001b[0m\u001b[0;34m:\u001b[0m\u001b[0;34m\u001b[0m\u001b[0;34m\u001b[0m\u001b[0m\n\u001b[0;32m-> 1121\u001b[0;31m             \u001b[0;32mreturn\u001b[0m \u001b[0mself\u001b[0m\u001b[0;34m.\u001b[0m\u001b[0m_get_value\u001b[0m\u001b[0;34m(\u001b[0m\u001b[0mkey\u001b[0m\u001b[0;34m)\u001b[0m\u001b[0;34m\u001b[0m\u001b[0;34m\u001b[0m\u001b[0m\n\u001b[0m\u001b[1;32m   1122\u001b[0m \u001b[0;34m\u001b[0m\u001b[0m\n\u001b[1;32m   1123\u001b[0m         \u001b[0;31m# Convert generator to list before going through hashable part\u001b[0m\u001b[0;34m\u001b[0m\u001b[0;34m\u001b[0m\u001b[0m\n",
            "\u001b[0;32m/usr/local/lib/python3.10/dist-packages/pandas/core/series.py\u001b[0m in \u001b[0;36m_get_value\u001b[0;34m(self, label, takeable)\u001b[0m\n\u001b[1;32m   1235\u001b[0m \u001b[0;34m\u001b[0m\u001b[0m\n\u001b[1;32m   1236\u001b[0m         \u001b[0;31m# Similar to Index.get_value, but we do not fall back to positional\u001b[0m\u001b[0;34m\u001b[0m\u001b[0;34m\u001b[0m\u001b[0m\n\u001b[0;32m-> 1237\u001b[0;31m         \u001b[0mloc\u001b[0m \u001b[0;34m=\u001b[0m \u001b[0mself\u001b[0m\u001b[0;34m.\u001b[0m\u001b[0mindex\u001b[0m\u001b[0;34m.\u001b[0m\u001b[0mget_loc\u001b[0m\u001b[0;34m(\u001b[0m\u001b[0mlabel\u001b[0m\u001b[0;34m)\u001b[0m\u001b[0;34m\u001b[0m\u001b[0;34m\u001b[0m\u001b[0m\n\u001b[0m\u001b[1;32m   1238\u001b[0m \u001b[0;34m\u001b[0m\u001b[0m\n\u001b[1;32m   1239\u001b[0m         \u001b[0;32mif\u001b[0m \u001b[0mis_integer\u001b[0m\u001b[0;34m(\u001b[0m\u001b[0mloc\u001b[0m\u001b[0;34m)\u001b[0m\u001b[0;34m:\u001b[0m\u001b[0;34m\u001b[0m\u001b[0;34m\u001b[0m\u001b[0m\n",
            "\u001b[0;32m/usr/local/lib/python3.10/dist-packages/pandas/core/indexes/base.py\u001b[0m in \u001b[0;36mget_loc\u001b[0;34m(self, key)\u001b[0m\n\u001b[1;32m   3810\u001b[0m             ):\n\u001b[1;32m   3811\u001b[0m                 \u001b[0;32mraise\u001b[0m \u001b[0mInvalidIndexError\u001b[0m\u001b[0;34m(\u001b[0m\u001b[0mkey\u001b[0m\u001b[0;34m)\u001b[0m\u001b[0;34m\u001b[0m\u001b[0;34m\u001b[0m\u001b[0m\n\u001b[0;32m-> 3812\u001b[0;31m             \u001b[0;32mraise\u001b[0m \u001b[0mKeyError\u001b[0m\u001b[0;34m(\u001b[0m\u001b[0mkey\u001b[0m\u001b[0;34m)\u001b[0m \u001b[0;32mfrom\u001b[0m \u001b[0merr\u001b[0m\u001b[0;34m\u001b[0m\u001b[0;34m\u001b[0m\u001b[0m\n\u001b[0m\u001b[1;32m   3813\u001b[0m         \u001b[0;32mexcept\u001b[0m \u001b[0mTypeError\u001b[0m\u001b[0;34m:\u001b[0m\u001b[0;34m\u001b[0m\u001b[0;34m\u001b[0m\u001b[0m\n\u001b[1;32m   3814\u001b[0m             \u001b[0;31m# If we have a listlike key, _check_indexing_error will raise\u001b[0m\u001b[0;34m\u001b[0m\u001b[0;34m\u001b[0m\u001b[0m\n",
            "\u001b[0;31mKeyError\u001b[0m: 'minutes'"
          ]
        }
      ]
    },
    {
      "cell_type": "code",
      "source": [
        "!pip install pulp"
      ],
      "metadata": {
        "colab": {
          "base_uri": "https://localhost:8080/"
        },
        "id": "Qppwf0i7O7lp",
        "outputId": "22cf2bf4-c1b2-482b-8c24-84a53dbcdbc4"
      },
      "execution_count": 2,
      "outputs": [
        {
          "output_type": "stream",
          "name": "stdout",
          "text": [
            "Collecting pulp\n",
            "  Downloading PuLP-2.9.0-py3-none-any.whl.metadata (5.4 kB)\n",
            "Downloading PuLP-2.9.0-py3-none-any.whl (17.7 MB)\n",
            "\u001b[2K   \u001b[90m━━━━━━━━━━━━━━━━━━━━━━━━━━━━━━━━━━━━━━━━\u001b[0m \u001b[32m17.7/17.7 MB\u001b[0m \u001b[31m56.8 MB/s\u001b[0m eta \u001b[36m0:00:00\u001b[0m\n",
            "\u001b[?25hInstalling collected packages: pulp\n",
            "Successfully installed pulp-2.9.0\n"
          ]
        }
      ]
    }
  ]
}